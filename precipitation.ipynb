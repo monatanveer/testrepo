{
    "cells": [
        {
            "metadata": {},
            "cell_type": "code",
            "source": "\nimport os, types\nimport pandas as pd\nfrom botocore.client import Config\nimport ibm_boto3\n\ndef __iter__(self): return 0\n\n# @hidden_cell\n# The following code accesses a file in your IBM Cloud Object Storage. It includes your credentials.\n# You might want to remove those credentials before you share the notebook.\ncos_client = ibm_boto3.client(service_name='s3',\n    ibm_api_key_id='OsA6U08xaFXPdCL0kIU2e8uNS-mOpLqenSntKllE38xw',\n    ibm_auth_endpoint=\"https://iam.cloud.ibm.com/oidc/token\",\n    config=Config(signature_version='oauth'),\n    endpoint_url='https://s3.private.eu-de.cloud-object-storage.appdomain.cloud')\n\nbucket = 'precipitationanalysis-donotdelete-pr-dhxbkemmnaxgkv'\nobject_key = 'business-price-indexes-september-2022-quarter-csv.csv'\n\nbody = cos_client.get_object(Bucket=bucket,Key=object_key)['Body']\n# add missing __iter__ method, so pandas accepts body as file-like object\nif not hasattr(body, \"__iter__\"): body.__iter__ = types.MethodType( __iter__, body )\n\ndf_data_1 = pd.read_csv(body)\ndf_data_1.head()\n",
            "execution_count": 1,
            "outputs": [
                {
                    "output_type": "stream",
                    "text": "/tmp/wsuser/ipykernel_164/143730288.py:24: DtypeWarning: Columns (8) have mixed types. Specify dtype option on import or set low_memory=False.\n  df_data_1 = pd.read_csv(body)\n",
                    "name": "stderr"
                },
                {
                    "output_type": "execute_result",
                    "execution_count": 1,
                    "data": {
                        "text/plain": "  Series_reference   Period  Data_value STATUS  UNITS  \\\n0       CEPQ.S2371  1996.12       899.0  FINAL  Index   \n1       CEPQ.S2371  1997.03       884.0  FINAL  Index   \n2       CEPQ.S2371  1997.06       925.0  FINAL  Index   \n3       CEPQ.S2371  1997.09       932.0  FINAL  Index   \n4       CEPQ.S2371  1997.12       929.0  FINAL  Index   \n\n                           Subject  \\\n0  Capital Goods Price Index - CEP   \n1  Capital Goods Price Index - CEP   \n2  Capital Goods Price Index - CEP   \n3  Capital Goods Price Index - CEP   \n4  Capital Goods Price Index - CEP   \n\n                                               Group  \\\n0  Price Index by Item - Plant, Machinery and Equ...   \n1  Price Index by Item - Plant, Machinery and Equ...   \n2  Price Index by Item - Plant, Machinery and Equ...   \n3  Price Index by Item - Plant, Machinery and Equ...   \n4  Price Index by Item - Plant, Machinery and Equ...   \n\n             Series_title_1 Series_title_2  Series_title_3  Series_title_4  \\\n0  Glass and glass products            NaN             NaN             NaN   \n1  Glass and glass products            NaN             NaN             NaN   \n2  Glass and glass products            NaN             NaN             NaN   \n3  Glass and glass products            NaN             NaN             NaN   \n4  Glass and glass products            NaN             NaN             NaN   \n\n   Series_title_5  \n0             NaN  \n1             NaN  \n2             NaN  \n3             NaN  \n4             NaN  ",
                        "text/html": "<div>\n<style scoped>\n    .dataframe tbody tr th:only-of-type {\n        vertical-align: middle;\n    }\n\n    .dataframe tbody tr th {\n        vertical-align: top;\n    }\n\n    .dataframe thead th {\n        text-align: right;\n    }\n</style>\n<table border=\"1\" class=\"dataframe\">\n  <thead>\n    <tr style=\"text-align: right;\">\n      <th></th>\n      <th>Series_reference</th>\n      <th>Period</th>\n      <th>Data_value</th>\n      <th>STATUS</th>\n      <th>UNITS</th>\n      <th>Subject</th>\n      <th>Group</th>\n      <th>Series_title_1</th>\n      <th>Series_title_2</th>\n      <th>Series_title_3</th>\n      <th>Series_title_4</th>\n      <th>Series_title_5</th>\n    </tr>\n  </thead>\n  <tbody>\n    <tr>\n      <th>0</th>\n      <td>CEPQ.S2371</td>\n      <td>1996.12</td>\n      <td>899.0</td>\n      <td>FINAL</td>\n      <td>Index</td>\n      <td>Capital Goods Price Index - CEP</td>\n      <td>Price Index by Item - Plant, Machinery and Equ...</td>\n      <td>Glass and glass products</td>\n      <td>NaN</td>\n      <td>NaN</td>\n      <td>NaN</td>\n      <td>NaN</td>\n    </tr>\n    <tr>\n      <th>1</th>\n      <td>CEPQ.S2371</td>\n      <td>1997.03</td>\n      <td>884.0</td>\n      <td>FINAL</td>\n      <td>Index</td>\n      <td>Capital Goods Price Index - CEP</td>\n      <td>Price Index by Item - Plant, Machinery and Equ...</td>\n      <td>Glass and glass products</td>\n      <td>NaN</td>\n      <td>NaN</td>\n      <td>NaN</td>\n      <td>NaN</td>\n    </tr>\n    <tr>\n      <th>2</th>\n      <td>CEPQ.S2371</td>\n      <td>1997.06</td>\n      <td>925.0</td>\n      <td>FINAL</td>\n      <td>Index</td>\n      <td>Capital Goods Price Index - CEP</td>\n      <td>Price Index by Item - Plant, Machinery and Equ...</td>\n      <td>Glass and glass products</td>\n      <td>NaN</td>\n      <td>NaN</td>\n      <td>NaN</td>\n      <td>NaN</td>\n    </tr>\n    <tr>\n      <th>3</th>\n      <td>CEPQ.S2371</td>\n      <td>1997.09</td>\n      <td>932.0</td>\n      <td>FINAL</td>\n      <td>Index</td>\n      <td>Capital Goods Price Index - CEP</td>\n      <td>Price Index by Item - Plant, Machinery and Equ...</td>\n      <td>Glass and glass products</td>\n      <td>NaN</td>\n      <td>NaN</td>\n      <td>NaN</td>\n      <td>NaN</td>\n    </tr>\n    <tr>\n      <th>4</th>\n      <td>CEPQ.S2371</td>\n      <td>1997.12</td>\n      <td>929.0</td>\n      <td>FINAL</td>\n      <td>Index</td>\n      <td>Capital Goods Price Index - CEP</td>\n      <td>Price Index by Item - Plant, Machinery and Equ...</td>\n      <td>Glass and glass products</td>\n      <td>NaN</td>\n      <td>NaN</td>\n      <td>NaN</td>\n      <td>NaN</td>\n    </tr>\n  </tbody>\n</table>\n</div>"
                    },
                    "metadata": {}
                }
            ]
        },
        {
            "metadata": {},
            "cell_type": "code",
            "source": "",
            "execution_count": null,
            "outputs": []
        }
    ],
    "metadata": {
        "kernelspec": {
            "name": "python3",
            "display_name": "Python 3.10",
            "language": "python"
        },
        "language_info": {
            "name": "python",
            "version": "3.10.6",
            "mimetype": "text/x-python",
            "codemirror_mode": {
                "name": "ipython",
                "version": 3
            },
            "pygments_lexer": "ipython3",
            "nbconvert_exporter": "python",
            "file_extension": ".py"
        }
    },
    "nbformat": 4,
    "nbformat_minor": 1
}